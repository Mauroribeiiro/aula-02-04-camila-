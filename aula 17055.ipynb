{
 "cells": [
  {
   "cell_type": "code",
   "execution_count": null,
   "metadata": {},
   "outputs": [],
   "source": [
    "for patinho in [5, 4, 3, 2, 1]:\n",
    "    print(patinho, 'foram passear \\n além das montanhas para brincar',\n",
    "    )"
   ]
  },
  {
   "cell_type": "code",
   "execution_count": 3,
   "metadata": {},
   "outputs": [
    {
     "name": "stdout",
     "output_type": "stream",
     "text": [
      "numero 10 x 1 = 10\n",
      "numero 10 x 2 = 20\n",
      "numero 10 x 3 = 30\n",
      "numero 10 x 4 = 40\n",
      "numero 10 x 5 = 50\n",
      "numero 10 x 6 = 60\n",
      "numero 10 x 7 = 70\n",
      "numero 10 x 8 = 80\n",
      "numero 10 x 9 = 90\n",
      "numero 10 x 10 = 100\n"
     ]
    }
   ],
   "source": [
    "numero = int(input('digite um numero:'))\n",
    "\n",
    "for multiplicador in range (1, 11):\n",
    "    resultado = numero * multiplicador \n",
    "    print(f'numero {numero} x {multiplicador} = {resultado}')"
   ]
  }
 ],
 "metadata": {
  "kernelspec": {
   "display_name": "Python 3",
   "language": "python",
   "name": "python3"
  },
  "language_info": {
   "codemirror_mode": {
    "name": "ipython",
    "version": 3
   },
   "file_extension": ".py",
   "mimetype": "text/x-python",
   "name": "python",
   "nbconvert_exporter": "python",
   "pygments_lexer": "ipython3",
   "version": "3.11.9"
  }
 },
 "nbformat": 4,
 "nbformat_minor": 2
}
