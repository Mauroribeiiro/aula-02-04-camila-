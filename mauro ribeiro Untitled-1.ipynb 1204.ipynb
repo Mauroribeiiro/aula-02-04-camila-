{
 "cells": [
  {
   "cell_type": "code",
   "execution_count": 3,
   "metadata": {},
   "outputs": [
    {
     "name": "stdout",
     "output_type": "stream",
     "text": [
      "voce vai pagar uma taxa de: 100.0\n"
     ]
    }
   ],
   "source": [
    "valor = int(input('qual o valor do seu carro'))\n",
    "ano = int(input('qual o ano do seu carro'))\n",
    "\n",
    "if(ano > 1990): \n",
    "    print('voce vai pagar uma taxa de:', ano * 0.01 )\n",
    "else:\n",
    "    print('voce vai pagar uma taxa de: ', ano *0.015)\n",
    "    "
   ]
  },
  {
   "cell_type": "code",
   "execution_count": 2,
   "metadata": {},
   "outputs": [
    {
     "name": "stdout",
     "output_type": "stream",
     "text": [
      "voce vai ter um aumento de 1000 para 1200.0\n"
     ]
    }
   ],
   "source": [
    "salario = float(input('qual o seu salario?'))\n",
    "cargo = int(input('qual o código do seu cargo?'))\n",
    "\n",
    "if(cargo == 101):\n",
    "    print('voce vei ter um aumento de', salario, 'para', salario*0.1 + salario) \n",
    "elif(cargo == 102):\n",
    "    print('voce vai ter um aumento de', salario, 'para', salario *0.2 + salario)\n",
    "elif(cargo == 103):\n",
    "    print('voce vai ter um aumento de', salario, 'para', salario*0.3 + salario)\n",
    "else:\n",
    "    print('voce vai ter um aumendo de', salario, 'para', salario*0.4 + salario)"
   ]
  },
  {
   "cell_type": "code",
   "execution_count": null,
   "metadata": {},
   "outputs": [],
   "source": []
  }
 ],
 "metadata": {
  "kernelspec": {
   "display_name": "Python 3",
   "language": "python",
   "name": "python3"
  },
  "language_info": {
   "codemirror_mode": {
    "name": "ipython",
    "version": 3
   },
   "file_extension": ".py",
   "mimetype": "text/x-python",
   "name": "python",
   "nbconvert_exporter": "python",
   "pygments_lexer": "ipython3",
   "version": "3.10.11"
  }
 },
 "nbformat": 4,
 "nbformat_minor": 2
}
