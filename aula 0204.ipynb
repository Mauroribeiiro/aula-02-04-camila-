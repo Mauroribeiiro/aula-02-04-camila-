{
 "cells": [
  {
   "cell_type": "code",
   "execution_count": 1,
   "metadata": {},
   "outputs": [
    {
     "name": "stdout",
     "output_type": "stream",
     "text": [
      "33\n"
     ]
    }
   ],
   "source": [
    "valor = int(input('o numero informo foi'))\n",
    "print(valor)"
   ]
  },
  {
   "cell_type": "code",
   "execution_count": 2,
   "metadata": {},
   "outputs": [
    {
     "name": "stdout",
     "output_type": "stream",
     "text": [
      "55\n"
     ]
    }
   ],
   "source": [
    "numero1 = int(input('diga um numero'))\n",
    "numero2 = int(input('diga um numero'))\n",
    "print (numero1 + numero2)"
   ]
  },
  {
   "cell_type": "code",
   "execution_count": 4,
   "metadata": {},
   "outputs": [],
   "source": [
    "nota1 = float(input('digite o resultado nota'))\n",
    "nota2 = float(input('digite o resultado nota2'))\n",
    "nota3 = float(input('digite o resultado nota3'))\n"
   ]
  },
  {
   "cell_type": "code",
   "execution_count": 7,
   "metadata": {},
   "outputs": [
    {
     "name": "stdout",
     "output_type": "stream",
     "text": [
      "5.0\n"
     ]
    }
   ],
   "source": [
    "print((nota1 + nota2 + nota3) / 3)"
   ]
  },
  {
   "cell_type": "code",
   "execution_count": 9,
   "metadata": {},
   "outputs": [
    {
     "name": "stdout",
     "output_type": "stream",
     "text": [
      "4500.0\n"
     ]
    }
   ],
   "source": [
    "horaDia = float(input('quanto voce ganha por hora'))\n",
    "horasTrab = float(input('numero de horas trabalhada no mes'))\n",
    "print (horaDia * horasTrab)\n",
    "\n",
    "\n"
   ]
  },
  {
   "cell_type": "code",
   "execution_count": 6,
   "metadata": {},
   "outputs": [
    {
     "name": "stdout",
     "output_type": "stream",
     "text": [
      "voce vai pagaruma multa de 4.0\n"
     ]
    }
   ],
   "source": [
    "#peso do pescado \n",
    "pesoPeixe = float(input('digite o kg do peixe pescaddo'))\n",
    "#calcular se esta excedente ou ok e informar \n",
    "multa = float(4.00)\n",
    "\n",
    "if (pesoPeixe <= 50):\n",
    "\n",
    "    print('voce esta isento de impsto, parabens')\n",
    "else:\n",
    "    print('voce vai pagaruma multa de', (pesoPeixe - 50)*multa )"
   ]
  },
  {
   "cell_type": "code",
   "execution_count": null,
   "metadata": {},
   "outputs": [],
   "source": [
    "m"
   ]
  }
 ],
 "metadata": {
  "kernelspec": {
   "display_name": "Python 3",
   "language": "python",
   "name": "python3"
  },
  "language_info": {
   "codemirror_mode": {
    "name": "ipython",
    "version": 3
   },
   "file_extension": ".py",
   "mimetype": "text/x-python",
   "name": "python",
   "nbconvert_exporter": "python",
   "pygments_lexer": "ipython3",
   "version": "3.10.11"
  }
 },
 "nbformat": 4,
 "nbformat_minor": 2
}
