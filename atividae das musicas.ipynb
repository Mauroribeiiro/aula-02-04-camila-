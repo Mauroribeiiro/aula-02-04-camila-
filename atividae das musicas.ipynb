{
 "cells": [
  {
   "cell_type": "code",
   "execution_count": 3,
   "metadata": {},
   "outputs": [
    {
     "name": "stdout",
     "output_type": "stream",
     "text": [
      "1 elefante incomoda muita gente\n",
      "2 elefantes incomodam, incomodam,  muito mais\n",
      "3 elefantes incomodam muito mais\n",
      "4 elefantes incomodam, incomodam, incomodam, incomodam,  muito mais\n",
      "5 elefantes incomodam muito mais\n",
      "6 elefantes incomodam, incomodam, incomodam, incomodam, incomodam, incomodam,  muito mais\n",
      "7 elefantes incomodam muito mais\n",
      "8 elefantes incomodam, incomodam, incomodam, incomodam, incomodam, incomodam, incomodam, incomodam,  muito mais\n",
      "9 elefantes incomodam muito mais\n",
      "10 elefantes incomodam, incomodam, incomodam, incomodam, incomodam, incomodam, incomodam, incomodam, incomodam, incomodam,  muito mais\n"
     ]
    }
   ],
   "source": [
    "# atividade elefantinho incomodado \n",
    "\n",
    "for elefante in range (1, 11):\n",
    "    if elefante % 2 == 0:\n",
    "        print(elefante, 'elefantes', elefante*'incomodam, ', 'muito mais')\n",
    "    else:\n",
    "        if elefante == 1:\n",
    "            print(elefante, 'elefante \n",
    "                  incomoda muita gente')\n",
    "        else: \n",
    "            print(elefante, 'elefantes incomodam muito mais')"
   ]
  },
  {
   "cell_type": "code",
   "execution_count": 1,
   "metadata": {},
   "outputs": [
    {
     "name": "stdout",
     "output_type": "stream",
     "text": [
      "10 elefantes incomodam muita gente\n",
      "9 elefantes incomodam,incomodam,incomodam,incomodam,incomodam,incomodam,incomodam,incomodam,incomodam, muito menos\n",
      "8 elefantes incomodam muita gente\n",
      "7 elefantes incomodam,incomodam,incomodam,incomodam,incomodam,incomodam,incomodam, muito menos\n",
      "6 elefantes incomodam muita gente\n",
      "5 elefantes incomodam,incomodam,incomodam,incomodam,incomodam, muito menos\n",
      "4 elefantes incomodam muita gente\n",
      "3 elefantes incomodam,incomodam,incomodam, muito menos\n",
      "2 elefantes incomodam muita gente\n",
      "1 elefante incomoda miota gente\n"
     ]
    }
   ],
   "source": [
    "for elefante in range(10,0,-1):\n",
    "    if elefante % 2 == 1:\n",
    "        if elefante == 1:\n",
    "            print(elefante, 'elefante incomoda miota gente')\n",
    "        else:\n",
    "            print(elefante, 'elefantes', elefante*'incomodam,', 'muito menos')\n",
    "    else:\n",
    "        print(elefante, 'elefantes incomodam muita gente')"
   ]
  },
  {
   "cell_type": "code",
   "execution_count": 6,
   "metadata": {},
   "outputs": [
    {
     "name": "stdout",
     "output_type": "stream",
     "text": [
      "\n",
      " Mariana conta 1 \n",
      " Mariana 1. é 1, é 1, é! \n",
      " Ana, viva a Mariana, viva a Mariana\n",
      "\n",
      " Mariana conta 2\n",
      "Mariana conta 2 é  1 é  2  é!\n",
      "Ana viva a Mariana, viva Mariana\n",
      "\n",
      " Mariana conta 3\n",
      "Mariana conta 3 é  1 é  2 é  3  é!\n",
      "Ana viva a Mariana, viva Mariana\n",
      "\n",
      " Mariana conta 4\n",
      "Mariana conta 4 é  1 é  2 é  3 é  4  é!\n",
      "Ana viva a Mariana, viva Mariana\n",
      "\n",
      " Mariana conta 5\n",
      "Mariana conta 5 é  1 é  2 é  3 é  4 é  5  é!\n",
      "Ana viva a Mariana, viva Mariana\n",
      "\n",
      " Mariana conta 6\n",
      "Mariana conta 6 é  1 é  2 é  3 é  4 é  5 é  6  é!\n",
      "Ana viva a Mariana, viva Mariana\n",
      "\n",
      " Mariana conta 7\n",
      "Mariana conta 7 é  1 é  2 é  3 é  4 é  5 é  6 é  7  é!\n",
      "Ana viva a Mariana, viva Mariana\n",
      "\n",
      " Mariana conta 8\n",
      "Mariana conta 8 é  1 é  2 é  3 é  4 é  5 é  6 é  7 é  8  é!\n",
      "Ana viva a Mariana, viva Mariana\n",
      "\n",
      " Mariana conta 9\n",
      "Mariana conta 9 é  1 é  2 é  3 é  4 é  5 é  6 é  7 é  8 é  9  é!\n",
      "Ana viva a Mariana, viva Mariana\n",
      "\n",
      " Mariana conta 10\n",
      "Mariana conta 10 é  1 é  2 é  3 é  4 é  5 é  6 é  7 é  8 é  9 é  10  é!\n",
      "Ana viva a Mariana, viva Mariana\n"
     ]
    }
   ],
   "source": [
    "#Viva MAriana\n",
    "\n",
    "for numero in range (1, 11):\n",
    "  if numero == 1:\n",
    "    print(\"\\n Mariana conta 1 \\n Mariana 1. é 1, é 1, é! \\n Ana, viva a Mariana, viva a Mariana\")\n",
    "  else:\n",
    "    print(\"\\n Mariana conta\",numero)\n",
    "    print('Mariana conta',numero, end = \" \")\n",
    "    for numero2 in range (1, numero+1):\n",
    "       print('é ',numero2, end = \" \",)\n",
    "    print(' é!')\n",
    "    print('Ana viva a Mariana, viva Mariana') "
   ]
  },
  {
   "cell_type": "code",
   "execution_count": 1,
   "metadata": {},
   "outputs": [
    {
     "name": "stdout",
     "output_type": "stream",
     "text": [
      "5 patinhos foram passear\n",
      " Além das montanhas para brincar\n",
      " A mamãe gritou: \"quá, quá, quá, quá!\"\n",
      " Mas só 4 patinhos voltaram de lá\n",
      "\n",
      "4 patinhos foram passear\n",
      " Além das montanhas para brincar\n",
      " A mamãe gritou: \"quá, quá, quá, quá!\"\n",
      " Mas só 3 patinhos voltaram de lá\n",
      "\n",
      "3 patinhos foram passear\n",
      " Além das montanhas para brincar\n",
      " A mamãe gritou: \"quá, quá, quá, quá!\"\n",
      " Mas só 2 patinhos voltaram de lá\n",
      "\n",
      "2 patinhos foram passear\n",
      " Além das montanhas para brincar\n",
      " A mamãe gritou: \"quá, quá, quá, quá!\"\n",
      " Mas só 1 patinhos voltaram de lá\n",
      "\n",
      "1 patinho foi passear\n",
      " Além das montanhas para brincar\n",
      " A mamãe gritou: \"quá, quá, quá, quá!\"\n",
      " Mas nenhum patinho voltou de lá\n"
     ]
    }
   ],
   "source": [
    "for patinhos in [5, 4, 3, 2, 1]:\n",
    "    if patinhos != 1 :\n",
    "        print(patinhos, 'patinhos foram passear\\n Além das montanhas para brincar\\n A mamãe gritou: \"quá, quá, quá, quá!\"\\n Mas só', patinhos-1, 'patinhos voltaram de lá\\n', )\n",
    "    else :\n",
    "        print(patinhos, 'patinho foi passear\\n Além das montanhas para brincar\\n A mamãe gritou: \"quá, quá, quá, quá!\"\\n Mas nenhum patinho voltou de lá', )"
   ]
  }
 ],
 "metadata": {
  "kernelspec": {
   "display_name": "Python 3",
   "language": "python",
   "name": "python3"
  },
  "language_info": {
   "codemirror_mode": {
    "name": "ipython",
    "version": 3
   },
   "file_extension": ".py",
   "mimetype": "text/x-python",
   "name": "python",
   "nbconvert_exporter": "python",
   "pygments_lexer": "ipython3",
   "version": "3.11.9"
  }
 },
 "nbformat": 4,
 "nbformat_minor": 2
}
